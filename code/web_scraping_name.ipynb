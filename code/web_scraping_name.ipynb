{
 "cells": [
  {
   "cell_type": "code",
   "execution_count": 2,
   "id": "69a38664",
   "metadata": {},
   "outputs": [],
   "source": [
    "import pandas as pd\n",
    "import requests\n",
    "from bs4 import BeautifulSoup"
   ]
  },
  {
   "cell_type": "markdown",
   "id": "299f149a",
   "metadata": {},
   "source": [
    "### First Names"
   ]
  },
  {
   "cell_type": "code",
   "execution_count": 123,
   "id": "9982f282",
   "metadata": {},
   "outputs": [],
   "source": [
    "url = 'https://www.ssa.gov/oact/babynames/decades/century.html'\n",
    "res = requests.get(url)\n",
    "soup = BeautifulSoup(res.text)"
   ]
  },
  {
   "cell_type": "code",
   "execution_count": 124,
   "id": "55f5b6d0",
   "metadata": {
    "scrolled": true
   },
   "outputs": [],
   "source": [
    "firstname_list = []\n",
    "for item in soup.find_all('tbody')[0].find_all('td')[:-2]:\n",
    "    try:\n",
    "        int(item.text.replace(',', ''))\n",
    "    except ValueError:\n",
    "        firstname_list.append(item.text)\n",
    "        \n",
    "male_firstname_list = []\n",
    "female_firstname_list = []\n",
    "for i, fn in enumerate(firstname_list):\n",
    "    if i % 2 == 0:\n",
    "        male_firstname_list.append(fn)\n",
    "    else:\n",
    "        female_firstname_list.append(fn)"
   ]
  },
  {
   "cell_type": "markdown",
   "id": "4de4b91a",
   "metadata": {},
   "source": [
    "### Last Names"
   ]
  },
  {
   "cell_type": "code",
   "execution_count": 125,
   "id": "671a1432",
   "metadata": {},
   "outputs": [],
   "source": [
    "url = 'https://namecensus.com/last-names/'\n",
    "res = requests.get(url)\n",
    "soup = BeautifulSoup(res.text)"
   ]
  },
  {
   "cell_type": "code",
   "execution_count": 126,
   "id": "27fa4173",
   "metadata": {},
   "outputs": [],
   "source": [
    "lastname_list = []\n",
    "for i in range(100):\n",
    "    lastname_list.append(soup.find_all('tbody')[0].find_all('a')[i].attrs['href'].split('/')[2].split('-')[0].title())"
   ]
  },
  {
   "cell_type": "markdown",
   "id": "a276eaa5",
   "metadata": {},
   "source": [
    "### Save to a csv file named `name_list.csv`"
   ]
  },
  {
   "cell_type": "code",
   "execution_count": 127,
   "id": "7597acd4",
   "metadata": {},
   "outputs": [
    {
     "data": {
      "text/html": [
       "<div>\n",
       "<style scoped>\n",
       "    .dataframe tbody tr th:only-of-type {\n",
       "        vertical-align: middle;\n",
       "    }\n",
       "\n",
       "    .dataframe tbody tr th {\n",
       "        vertical-align: top;\n",
       "    }\n",
       "\n",
       "    .dataframe thead th {\n",
       "        text-align: right;\n",
       "    }\n",
       "</style>\n",
       "<table border=\"1\" class=\"dataframe\">\n",
       "  <thead>\n",
       "    <tr style=\"text-align: right;\">\n",
       "      <th></th>\n",
       "      <th>male</th>\n",
       "      <th>female</th>\n",
       "      <th>last</th>\n",
       "    </tr>\n",
       "  </thead>\n",
       "  <tbody>\n",
       "    <tr>\n",
       "      <th>0</th>\n",
       "      <td>James</td>\n",
       "      <td>Mary</td>\n",
       "      <td>Smith</td>\n",
       "    </tr>\n",
       "    <tr>\n",
       "      <th>1</th>\n",
       "      <td>Robert</td>\n",
       "      <td>Patricia</td>\n",
       "      <td>Johnson</td>\n",
       "    </tr>\n",
       "    <tr>\n",
       "      <th>2</th>\n",
       "      <td>John</td>\n",
       "      <td>Jennifer</td>\n",
       "      <td>Williams</td>\n",
       "    </tr>\n",
       "    <tr>\n",
       "      <th>3</th>\n",
       "      <td>Michael</td>\n",
       "      <td>Linda</td>\n",
       "      <td>Brown</td>\n",
       "    </tr>\n",
       "    <tr>\n",
       "      <th>4</th>\n",
       "      <td>David</td>\n",
       "      <td>Elizabeth</td>\n",
       "      <td>Jones</td>\n",
       "    </tr>\n",
       "  </tbody>\n",
       "</table>\n",
       "</div>"
      ],
      "text/plain": [
       "      male     female      last\n",
       "0    James       Mary     Smith\n",
       "1   Robert   Patricia   Johnson\n",
       "2     John   Jennifer  Williams\n",
       "3  Michael      Linda     Brown\n",
       "4    David  Elizabeth     Jones"
      ]
     },
     "execution_count": 127,
     "metadata": {},
     "output_type": "execute_result"
    }
   ],
   "source": [
    "df = pd.DataFrame(male_firstname_list, \n",
    "                  columns = ['male'])\n",
    "df['female'] = female_firstname_list\n",
    "df['last'] = lastname_list\n",
    "df.to_csv('../data/name_list.csv', index = False)"
   ]
  }
 ],
 "metadata": {
  "kernelspec": {
   "display_name": "Python 3",
   "language": "python",
   "name": "python3"
  },
  "language_info": {
   "codemirror_mode": {
    "name": "ipython",
    "version": 3
   },
   "file_extension": ".py",
   "mimetype": "text/x-python",
   "name": "python",
   "nbconvert_exporter": "python",
   "pygments_lexer": "ipython3",
   "version": "3.8.5"
  }
 },
 "nbformat": 4,
 "nbformat_minor": 5
}
