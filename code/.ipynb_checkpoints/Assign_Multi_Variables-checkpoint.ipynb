{
 "cells": [
  {
   "cell_type": "code",
   "execution_count": 1,
   "id": "7dc63889",
   "metadata": {},
   "outputs": [],
   "source": [
    "x = 'x'\n",
    "ly = []\n",
    "for i in range(1, 11):\n",
    "    exec(\"%s_%i = %d\" % (x, i, 3567))"
   ]
  },
  {
   "cell_type": "code",
   "execution_count": 2,
   "id": "252fbf26",
   "metadata": {},
   "outputs": [
    {
     "data": {
      "text/plain": [
       "3567"
      ]
     },
     "execution_count": 2,
     "metadata": {},
     "output_type": "execute_result"
    }
   ],
   "source": [
    "x_1"
   ]
  },
  {
   "cell_type": "code",
   "execution_count": 14,
   "id": "1a78f393",
   "metadata": {},
   "outputs": [
    {
     "data": {
      "text/plain": [
       "3567"
      ]
     },
     "execution_count": 14,
     "metadata": {},
     "output_type": "execute_result"
    }
   ],
   "source": [
    "x_2"
   ]
  },
  {
   "cell_type": "code",
   "execution_count": 3,
   "id": "fa2e303e",
   "metadata": {},
   "outputs": [
    {
     "data": {
      "text/plain": [
       "3567"
      ]
     },
     "execution_count": 3,
     "metadata": {},
     "output_type": "execute_result"
    }
   ],
   "source": [
    "x_10"
   ]
  },
  {
   "cell_type": "code",
   "execution_count": 6,
   "id": "dd7f09f9",
   "metadata": {},
   "outputs": [
    {
     "name": "stdout",
     "output_type": "stream",
     "text": [
      "('x', 1, 2, 3, 12345)\n"
     ]
    }
   ],
   "source": [
    "ly = ['x', 1, 2, 3, 12345]\n",
    "t = tuple(ly)\n",
    "print(t)"
   ]
  },
  {
   "cell_type": "code",
   "execution_count": 7,
   "id": "96dc74ec",
   "metadata": {},
   "outputs": [],
   "source": [
    "exec(\"%s_%i, %s_%i = (%d, %d)\" % (x, 1, x, 2, 3567, 1234))"
   ]
  },
  {
   "cell_type": "code",
   "execution_count": 11,
   "id": "580a4089",
   "metadata": {},
   "outputs": [
    {
     "data": {
      "text/plain": [
       "3567"
      ]
     },
     "execution_count": 11,
     "metadata": {},
     "output_type": "execute_result"
    }
   ],
   "source": [
    "x_1"
   ]
  },
  {
   "cell_type": "code",
   "execution_count": 9,
   "id": "6a839b91",
   "metadata": {},
   "outputs": [
    {
     "data": {
      "text/plain": [
       "1234"
      ]
     },
     "execution_count": 9,
     "metadata": {},
     "output_type": "execute_result"
    }
   ],
   "source": [
    "x_2"
   ]
  },
  {
   "cell_type": "code",
   "execution_count": null,
   "id": "42744257",
   "metadata": {},
   "outputs": [],
   "source": [
    "ly = [x, 1, x, 2, 3567, 1234]"
   ]
  },
  {
   "cell_type": "code",
   "execution_count": null,
   "id": "b63d7b75",
   "metadata": {},
   "outputs": [],
   "source": [
    "'%s_%i, %s_%i = enumerate'"
   ]
  },
  {
   "cell_type": "code",
   "execution_count": 17,
   "id": "b3c348aa",
   "metadata": {},
   "outputs": [
    {
     "name": "stdout",
     "output_type": "stream",
     "text": [
      "0 x\n",
      "1 1\n",
      "2 2\n",
      "3 3\n",
      "4 12345\n"
     ]
    }
   ],
   "source": [
    "for i, n in enumerate(ly):\n",
    "    print(i, n)"
   ]
  },
  {
   "cell_type": "code",
   "execution_count": 23,
   "id": "66256a9e",
   "metadata": {},
   "outputs": [],
   "source": [
    "def return_val(n):\n",
    "    return ([i for i in range(n)])"
   ]
  },
  {
   "cell_type": "code",
   "execution_count": 25,
   "id": "84c7e2d3",
   "metadata": {},
   "outputs": [
    {
     "name": "stdout",
     "output_type": "stream",
     "text": [
      "0 1 2 3\n"
     ]
    }
   ],
   "source": [
    "a1, a2, a3, a4 = return_val(4)\n",
    "print(a1, a2, a3, a4)"
   ]
  },
  {
   "cell_type": "code",
   "execution_count": 13,
   "id": "0a98e593",
   "metadata": {},
   "outputs": [],
   "source": [
    "num_tag = 4"
   ]
  },
  {
   "cell_type": "code",
   "execution_count": 30,
   "id": "a0038de7",
   "metadata": {},
   "outputs": [
    {
     "name": "stdout",
     "output_type": "stream",
     "text": [
      "(1, 2, 3, 4, 4)\n"
     ]
    }
   ],
   "source": [
    "ly = []\n",
    "for i in range(1, num_tag + 1):\n",
    "    ly.append(i)\n",
    "ly.append(num_tag)\n",
    "\n",
    "t = tuple(ly)\n",
    "\n",
    "print(t)"
   ]
  },
  {
   "cell_type": "code",
   "execution_count": 34,
   "id": "b259ef1f",
   "metadata": {},
   "outputs": [],
   "source": [
    "assignStr = ','.join(['tag_%i' for i in range(num_tag)]) + '=return_val(%d)'"
   ]
  },
  {
   "cell_type": "code",
   "execution_count": 35,
   "id": "2a39f8e2",
   "metadata": {},
   "outputs": [],
   "source": [
    "exec(assignStr %t)"
   ]
  },
  {
   "cell_type": "code",
   "execution_count": 36,
   "id": "2ea33773",
   "metadata": {},
   "outputs": [
    {
     "data": {
      "text/plain": [
       "0"
      ]
     },
     "execution_count": 36,
     "metadata": {},
     "output_type": "execute_result"
    }
   ],
   "source": [
    "tag_1"
   ]
  },
  {
   "cell_type": "code",
   "execution_count": 37,
   "id": "7f5b0af6",
   "metadata": {},
   "outputs": [
    {
     "data": {
      "text/plain": [
       "3"
      ]
     },
     "execution_count": 37,
     "metadata": {},
     "output_type": "execute_result"
    }
   ],
   "source": [
    "tag_4"
   ]
  },
  {
   "cell_type": "code",
   "execution_count": null,
   "id": "c1c4d70f",
   "metadata": {},
   "outputs": [],
   "source": []
  }
 ],
 "metadata": {
  "kernelspec": {
   "display_name": "Python 3",
   "language": "python",
   "name": "python3"
  },
  "language_info": {
   "codemirror_mode": {
    "name": "ipython",
    "version": 3
   },
   "file_extension": ".py",
   "mimetype": "text/x-python",
   "name": "python",
   "nbconvert_exporter": "python",
   "pygments_lexer": "ipython3",
   "version": "3.8.5"
  }
 },
 "nbformat": 4,
 "nbformat_minor": 5
}
