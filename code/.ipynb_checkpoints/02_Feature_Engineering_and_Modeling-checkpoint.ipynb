{
 "cells": [
  {
   "cell_type": "markdown",
   "id": "7dbb6e2a",
   "metadata": {},
   "source": [
    "# Capstone Project - Customer Persona Generator\n",
    "_Author: Chi-Yuan (Tina) Peng_\n",
    "\n",
    "_Date: Dec. 2022_"
   ]
  },
  {
   "cell_type": "markdown",
   "id": "0f51ec16",
   "metadata": {},
   "source": [
    "## Imports"
   ]
  },
  {
   "cell_type": "code",
   "execution_count": 7,
   "id": "ce1df409",
   "metadata": {},
   "outputs": [],
   "source": [
    "import numpy as np\n",
    "import pandas as pd\n",
    "import matplotlib.pyplot as plt\n",
    "\n",
    "from sklearn.cluster import KMeans\n",
    "from sklearn.decomposition import PCA\n",
    "from sklearn.metrics import silhouette_score\n",
    "from sklearn.preprocessing import StandardScaler"
   ]
  },
  {
   "cell_type": "markdown",
   "id": "62c6c7e4",
   "metadata": {},
   "source": [
    "## Load Data"
   ]
  },
  {
   "cell_type": "code",
   "execution_count": 4,
   "id": "01671c01",
   "metadata": {},
   "outputs": [
    {
     "data": {
      "text/html": [
       "<div>\n",
       "<style scoped>\n",
       "    .dataframe tbody tr th:only-of-type {\n",
       "        vertical-align: middle;\n",
       "    }\n",
       "\n",
       "    .dataframe tbody tr th {\n",
       "        vertical-align: top;\n",
       "    }\n",
       "\n",
       "    .dataframe thead th {\n",
       "        text-align: right;\n",
       "    }\n",
       "</style>\n",
       "<table border=\"1\" class=\"dataframe\">\n",
       "  <thead>\n",
       "    <tr style=\"text-align: right;\">\n",
       "      <th></th>\n",
       "      <th>Income</th>\n",
       "      <th>Recency</th>\n",
       "      <th>MntWines</th>\n",
       "      <th>MntFruits</th>\n",
       "      <th>MntMeatProducts</th>\n",
       "      <th>MntFishProducts</th>\n",
       "      <th>MntSweetProducts</th>\n",
       "      <th>MntGoldProds</th>\n",
       "      <th>NumDealsPurchases</th>\n",
       "      <th>NumWebPurchases</th>\n",
       "      <th>...</th>\n",
       "      <th>has_child</th>\n",
       "      <th>num_family_member</th>\n",
       "      <th>single_parent</th>\n",
       "      <th>total_spent</th>\n",
       "      <th>PrWines</th>\n",
       "      <th>PrFruits</th>\n",
       "      <th>PrMeatProducts</th>\n",
       "      <th>PrFishProducts</th>\n",
       "      <th>PrSweetProducts</th>\n",
       "      <th>PrGoldProds</th>\n",
       "    </tr>\n",
       "  </thead>\n",
       "  <tbody>\n",
       "    <tr>\n",
       "      <th>0</th>\n",
       "      <td>58138.0</td>\n",
       "      <td>58</td>\n",
       "      <td>635</td>\n",
       "      <td>88</td>\n",
       "      <td>546</td>\n",
       "      <td>172</td>\n",
       "      <td>88</td>\n",
       "      <td>88</td>\n",
       "      <td>3</td>\n",
       "      <td>8</td>\n",
       "      <td>...</td>\n",
       "      <td>0</td>\n",
       "      <td>0</td>\n",
       "      <td>0</td>\n",
       "      <td>1617</td>\n",
       "      <td>0.392703</td>\n",
       "      <td>0.054422</td>\n",
       "      <td>0.337662</td>\n",
       "      <td>0.106370</td>\n",
       "      <td>0.054422</td>\n",
       "      <td>0.054422</td>\n",
       "    </tr>\n",
       "    <tr>\n",
       "      <th>1</th>\n",
       "      <td>46344.0</td>\n",
       "      <td>38</td>\n",
       "      <td>11</td>\n",
       "      <td>1</td>\n",
       "      <td>6</td>\n",
       "      <td>2</td>\n",
       "      <td>1</td>\n",
       "      <td>6</td>\n",
       "      <td>2</td>\n",
       "      <td>1</td>\n",
       "      <td>...</td>\n",
       "      <td>1</td>\n",
       "      <td>2</td>\n",
       "      <td>1</td>\n",
       "      <td>27</td>\n",
       "      <td>0.407407</td>\n",
       "      <td>0.037037</td>\n",
       "      <td>0.222222</td>\n",
       "      <td>0.074074</td>\n",
       "      <td>0.037037</td>\n",
       "      <td>0.222222</td>\n",
       "    </tr>\n",
       "    <tr>\n",
       "      <th>2</th>\n",
       "      <td>71613.0</td>\n",
       "      <td>26</td>\n",
       "      <td>426</td>\n",
       "      <td>49</td>\n",
       "      <td>127</td>\n",
       "      <td>111</td>\n",
       "      <td>21</td>\n",
       "      <td>42</td>\n",
       "      <td>1</td>\n",
       "      <td>8</td>\n",
       "      <td>...</td>\n",
       "      <td>0</td>\n",
       "      <td>1</td>\n",
       "      <td>0</td>\n",
       "      <td>776</td>\n",
       "      <td>0.548969</td>\n",
       "      <td>0.063144</td>\n",
       "      <td>0.163660</td>\n",
       "      <td>0.143041</td>\n",
       "      <td>0.027062</td>\n",
       "      <td>0.054124</td>\n",
       "    </tr>\n",
       "    <tr>\n",
       "      <th>3</th>\n",
       "      <td>26646.0</td>\n",
       "      <td>26</td>\n",
       "      <td>11</td>\n",
       "      <td>4</td>\n",
       "      <td>20</td>\n",
       "      <td>10</td>\n",
       "      <td>3</td>\n",
       "      <td>5</td>\n",
       "      <td>2</td>\n",
       "      <td>2</td>\n",
       "      <td>...</td>\n",
       "      <td>1</td>\n",
       "      <td>2</td>\n",
       "      <td>0</td>\n",
       "      <td>53</td>\n",
       "      <td>0.207547</td>\n",
       "      <td>0.075472</td>\n",
       "      <td>0.377358</td>\n",
       "      <td>0.188679</td>\n",
       "      <td>0.056604</td>\n",
       "      <td>0.094340</td>\n",
       "    </tr>\n",
       "    <tr>\n",
       "      <th>4</th>\n",
       "      <td>58293.0</td>\n",
       "      <td>94</td>\n",
       "      <td>173</td>\n",
       "      <td>43</td>\n",
       "      <td>118</td>\n",
       "      <td>46</td>\n",
       "      <td>27</td>\n",
       "      <td>15</td>\n",
       "      <td>5</td>\n",
       "      <td>5</td>\n",
       "      <td>...</td>\n",
       "      <td>1</td>\n",
       "      <td>2</td>\n",
       "      <td>0</td>\n",
       "      <td>422</td>\n",
       "      <td>0.409953</td>\n",
       "      <td>0.101896</td>\n",
       "      <td>0.279621</td>\n",
       "      <td>0.109005</td>\n",
       "      <td>0.063981</td>\n",
       "      <td>0.035545</td>\n",
       "    </tr>\n",
       "  </tbody>\n",
       "</table>\n",
       "<p>5 rows × 27 columns</p>\n",
       "</div>"
      ],
      "text/plain": [
       "    Income  Recency  MntWines  MntFruits  MntMeatProducts  MntFishProducts  \\\n",
       "0  58138.0       58       635         88              546              172   \n",
       "1  46344.0       38        11          1                6                2   \n",
       "2  71613.0       26       426         49              127              111   \n",
       "3  26646.0       26        11          4               20               10   \n",
       "4  58293.0       94       173         43              118               46   \n",
       "\n",
       "   MntSweetProducts  MntGoldProds  NumDealsPurchases  NumWebPurchases  ...  \\\n",
       "0                88            88                  3                8  ...   \n",
       "1                 1             6                  2                1  ...   \n",
       "2                21            42                  1                8  ...   \n",
       "3                 3             5                  2                2  ...   \n",
       "4                27            15                  5                5  ...   \n",
       "\n",
       "   has_child  num_family_member  single_parent  total_spent   PrWines  \\\n",
       "0          0                  0              0         1617  0.392703   \n",
       "1          1                  2              1           27  0.407407   \n",
       "2          0                  1              0          776  0.548969   \n",
       "3          1                  2              0           53  0.207547   \n",
       "4          1                  2              0          422  0.409953   \n",
       "\n",
       "   PrFruits  PrMeatProducts  PrFishProducts  PrSweetProducts  PrGoldProds  \n",
       "0  0.054422        0.337662        0.106370         0.054422     0.054422  \n",
       "1  0.037037        0.222222        0.074074         0.037037     0.222222  \n",
       "2  0.063144        0.163660        0.143041         0.027062     0.054124  \n",
       "3  0.075472        0.377358        0.188679         0.056604     0.094340  \n",
       "4  0.101896        0.279621        0.109005         0.063981     0.035545  \n",
       "\n",
       "[5 rows x 27 columns]"
      ]
     },
     "execution_count": 4,
     "metadata": {},
     "output_type": "execute_result"
    }
   ],
   "source": [
    "df = pd.read_csv('../data/cleaned_data.csv')\n",
    "df.head()"
   ]
  },
  {
   "cell_type": "markdown",
   "id": "5eab5ecc",
   "metadata": {},
   "source": [
    "## Feature Engineering"
   ]
  },
  {
   "cell_type": "code",
   "execution_count": 5,
   "id": "a038a669",
   "metadata": {},
   "outputs": [],
   "source": [
    "sc = StandardScaler()\n",
    "Z_df = sc.fit_transform(df)"
   ]
  },
  {
   "cell_type": "markdown",
   "id": "30ce6782",
   "metadata": {},
   "source": [
    "## Modeling - KMeans Clustering"
   ]
  },
  {
   "cell_type": "code",
   "execution_count": 4,
   "id": "ea37af30",
   "metadata": {},
   "outputs": [
    {
     "data": {
      "image/png": "[encoded data removed]",
      "text/plain": [
       "<Figure size 576x432 with 1 Axes>"
      ]
     },
     "metadata": {
      "needs_background": "light"
     },
     "output_type": "display_data"
    }
   ],
   "source": [
    "inertia_ly = []\n",
    "\n",
    "for k in range(1, 11):\n",
    "    km = KMeans(n_clusters = k, random_state = 42)\n",
    "    km.fit(Z_df)\n",
    "    inertia_ly.append(km.inertia_)\n",
    "    \n",
    "plt.figure(figsize = (8, 6))\n",
    "plt.plot(range(1, 11), inertia_ly, marker = '*', color = 'dodgerblue')\n",
    "plt.xlabel('Number of Clusters', fontsize = 12)\n",
    "plt.ylabel('Score', fontsize = 12)\n",
    "plt.xticks(range(1, 11))\n",
    "plt.title('Inertia Scores', fontsize = 15);"
   ]
  },
  {
   "cell_type": "code",
   "execution_count": 51,
   "id": "52174091",
   "metadata": {},
   "outputs": [
    {
     "data": {
      "image/png": "[encoded data removed]",
      "text/plain": [
       "<Figure size 576x432 with 1 Axes>"
      ]
     },
     "metadata": {
      "needs_background": "light"
     },
     "output_type": "display_data"
    }
   ],
   "source": [
    "from sklearn.metrics import silhouette_score\n",
    "\n",
    "sil = []\n",
    "kmax = 10\n",
    "\n",
    "# dissimilarity would not be defined for a single cluster, thus, minimum number of clusters should be 2\n",
    "for k in range(2, kmax+1):\n",
    "    kmeans = KMeans(n_clusters = k).fit(Z_df)\n",
    "    labels = kmeans.labels_\n",
    "    sil.append(silhouette_score(Z_df, labels, metric = 'euclidean'))\n",
    "    \n",
    "plt.figure(figsize = (8, 6))\n",
    "plt.plot(range(2, 11), sil, marker = '*', color = 'dodgerblue')\n",
    "plt.xlabel('Number of Clusters', fontsize = 12)\n",
    "plt.ylabel('Score', fontsize = 12)\n",
    "plt.xticks(range(2, 11))\n",
    "plt.title('Sil Scores', fontsize = 15);"
   ]
  },
  {
   "cell_type": "markdown",
   "id": "2543d7d4",
   "metadata": {},
   "source": [
    ">The results above show not enough information for me to select a optimal number for k; therefore, I would like to try PCA to help me reduce the number of variables in the kmeans model."
   ]
  },
  {
   "cell_type": "markdown",
   "id": "b8679135",
   "metadata": {},
   "source": [
    "#### PCA + KMeans"
   ]
  },
  {
   "cell_type": "code",
   "execution_count": 11,
   "id": "427dc7c6",
   "metadata": {},
   "outputs": [],
   "source": [
    "pca = PCA(n_components = 3)\n",
    "PCA_df = pd.DataFrame(pca.fit_transform(Z_df), columns=(['pca_1', 'pca_2', 'pca_3']))"
   ]
  },
  {
   "cell_type": "code",
   "execution_count": 12,
   "id": "8ae40e20",
   "metadata": {},
   "outputs": [
    {
     "data": {
      "image/png": "[encoded data removed]",
      "text/plain": [
       "<Figure size 576x432 with 1 Axes>"
      ]
     },
     "metadata": {
      "needs_background": "light"
     },
     "output_type": "display_data"
    }
   ],
   "source": [
    "inertia_ly = []\n",
    "\n",
    "for k in range(1, 11):\n",
    "    km = KMeans(n_clusters = k, random_state = 42)\n",
    "    km.fit(PCA_df)\n",
    "    inertia_ly.append(km.inertia_)\n",
    "    \n",
    "plt.figure(figsize = (8, 6))\n",
    "plt.plot(range(1, 11), inertia_ly, marker = '*', color = 'dodgerblue')\n",
    "plt.xlabel('Number of Clusters', fontsize = 12)\n",
    "plt.ylabel('Score', fontsize = 12)\n",
    "plt.xticks(range(1, 11))\n",
    "plt.title('Inertia Scores', fontsize = 15);"
   ]
  },
  {
   "cell_type": "code",
   "execution_count": 14,
   "id": "5e221fd1",
   "metadata": {},
   "outputs": [
    {
     "data": {
      "image/png": "[encoded data removed]",
      "text/plain": [
       "<Figure size 576x432 with 1 Axes>"
      ]
     },
     "metadata": {
      "needs_background": "light"
     },
     "output_type": "display_data"
    }
   ],
   "source": [
    "from sklearn.metrics import silhouette_score\n",
    "\n",
    "sil_ly = []\n",
    "max_k = 10\n",
    "\n",
    "# dissimilarity would not be defined for a single cluster, thus, minimum number of clusters should be 2\n",
    "for k in range(2, max_k+1):\n",
    "    kmeans = KMeans(n_clusters = k).fit(PCA_df)\n",
    "    labels = kmeans.labels_\n",
    "    sil_ly.append(silhouette_score(PCA_df, labels, metric = 'euclidean'))\n",
    "    \n",
    "plt.figure(figsize = (8, 6))\n",
    "plt.plot(range(2, 11), sil_ly, marker = '*', color = 'dodgerblue')\n",
    "plt.xlabel('Number of Clusters', fontsize = 12)\n",
    "plt.ylabel('Score', fontsize = 12)\n",
    "plt.xticks(range(2, 11))\n",
    "plt.title('Silhouette Scores', fontsize = 15);"
   ]
  },
  {
   "cell_type": "markdown",
   "id": "d5cce039",
   "metadata": {},
   "source": [
    ">According to the results above, the optimal k is 4; therefore, I will use k = 4 to make the clustering."
   ]
  },
  {
   "cell_type": "code",
   "execution_count": 15,
   "id": "58b5e980",
   "metadata": {},
   "outputs": [],
   "source": [
    "# KMeans (k = 4)\n",
    "km_4 = KMeans(n_clusters = 4)\n",
    "y_pred = km_4.fit_predict(PCA_df)\n",
    "df[\"label\"] = y_pred"
   ]
  },
  {
   "cell_type": "markdown",
   "id": "98425661",
   "metadata": {},
   "source": [
    "#### Rename the label names\n",
    "- 0 to A\n",
    "- 1 to B\n",
    "- 2 to C\n",
    "- 3 to D"
   ]
  },
  {
   "cell_type": "code",
   "execution_count": 18,
   "id": "8af0f604",
   "metadata": {},
   "outputs": [],
   "source": [
    "df['label'] = df['label'].replace({0: 'A', 1: 'B', 2: 'C', 3: 'D'})"
   ]
  },
  {
   "cell_type": "markdown",
   "id": "579ad8c8",
   "metadata": {},
   "source": [
    "### Output the result"
   ]
  },
  {
   "cell_type": "code",
   "execution_count": 33,
   "id": "280426de",
   "metadata": {},
   "outputs": [],
   "source": [
    "df.to_csv('../data/labeled_result.csv', index = False)"
   ]
  }
 ],
 "metadata": {
  "kernelspec": {
   "display_name": "Python 3",
   "language": "python",
   "name": "python3"
  },
  "language_info": {
   "codemirror_mode": {
    "name": "ipython",
    "version": 3
   },
   "file_extension": ".py",
   "mimetype": "text/x-python",
   "name": "python",
   "nbconvert_exporter": "python",
   "pygments_lexer": "ipython3",
   "version": "3.8.5"
  }
 },
 "nbformat": 4,
 "nbformat_minor": 5
}
